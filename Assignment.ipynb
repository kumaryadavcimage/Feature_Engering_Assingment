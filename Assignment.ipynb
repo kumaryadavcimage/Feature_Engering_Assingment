{
 "cells": [
  {
   "cell_type": "markdown",
   "id": "37ebdfde-ec7a-44a6-9e97-7d91af2c3265",
   "metadata": {},
   "source": [
    "#### Q1. What is data encoding? How is it useful in data science?"
   ]
  },
  {
   "cell_type": "markdown",
   "id": "c0ebded9-4b93-4afe-a57f-e1109ec24c83",
   "metadata": {},
   "source": [
    "#### solve\n",
    "\n",
    "Data encoding is the process of converting categorical data into numerical format so that it can be used by machine learning algorithms and statistical models. Since many machine learning algorithms require numerical input, encoding categorical data is crucial for effectively utilizing these models."
   ]
  },
  {
   "cell_type": "markdown",
   "id": "b73fd5ec-a61c-4924-8ea9-05fb38cfc5fb",
   "metadata": {},
   "source": [
    "#### Q2. What is nominal encoding? Provide an example of how you would use it in a real-world scenario."
   ]
  },
  {
   "cell_type": "markdown",
   "id": "9e009139-52c7-47e5-894d-c64c4be61bd6",
   "metadata": {},
   "source": [
    "#### solve\n",
    "\n",
    "Nominal Encoding is a technique used to convert categorical data into a numerical format where the categories have no intrinsic order or ranking. This is also known as \"one-hot encoding\" in many contexts. In nominal encoding, each category is represented by a binary vector where only one position is marked as `1` (indicating the presence of the category), and all other positions are `0`.\n",
    "\n",
    "Characteristics of Nominal Encoding:\n",
    "- No Ordinal Relationship: The categories do not have any inherent order or ranking (e.g., colors, types of animals).\n",
    "\n",
    "- Binary Representation: Each category is represented as a separate binary column.\n",
    "\n",
    "Example of Nominal Encoding in a Real-World Scenario\n",
    "\n",
    "- Let’s consider a real-world scenario involving an e-commerce platform where we need to encode the categorical feature product_category in a dataset. Suppose the product_category column contains the following categories:"
   ]
  },
  {
   "cell_type": "code",
   "execution_count": 1,
   "id": "904ae685-4156-42fb-b6ac-bd493d013ca4",
   "metadata": {},
   "outputs": [
    {
     "name": "stdout",
     "output_type": "stream",
     "text": [
      "   product_id  product_category_Books  product_category_Clothing  \\\n",
      "0           1                   False                      False   \n",
      "1           2                   False                       True   \n",
      "2           3                    True                      False   \n",
      "3           4                   False                      False   \n",
      "4           5                   False                      False   \n",
      "\n",
      "   product_category_Electronics  product_category_Home Appliances  \n",
      "0                          True                             False  \n",
      "1                         False                             False  \n",
      "2                         False                             False  \n",
      "3                          True                             False  \n",
      "4                         False                              True  \n"
     ]
    }
   ],
   "source": [
    "import pandas as pd\n",
    "\n",
    "# Sample data\n",
    "data = pd.DataFrame({\n",
    "    'product_id': [1, 2, 3, 4, 5],\n",
    "    'product_category': ['Electronics', 'Clothing', 'Books', 'Electronics', 'Home Appliances']\n",
    "})\n",
    "\n",
    "# Perform nominal encoding using one-hot encoding\n",
    "encoded_data = pd.get_dummies(data, columns=['product_category'])\n",
    "\n",
    "# Display the results\n",
    "print(encoded_data)\n"
   ]
  },
  {
   "cell_type": "markdown",
   "id": "5c90a98e-45c6-42f8-bd83-9b128f4eecf6",
   "metadata": {},
   "source": [
    "#### Q3. In what situations is nominal encoding preferred over one-hot encoding? Provide a practical example."
   ]
  },
  {
   "cell_type": "markdown",
   "id": "956965e0-4e66-4202-b2e7-9c88d2ecbe78",
   "metadata": {},
   "source": [
    "#### solve\n",
    "Nominal encoding and one-hot encoding are often used interchangeably, but they can have different applications depending on the context and the nature of the categorical data. Both methods convert categorical data into a numerical format, but their suitability depends on specific situations.\n",
    "\n",
    "When is Nominal Encoding Preferred Over One-Hot Encoding?\n",
    "\n",
    "Nominal Encoding is generally preferred when:\n",
    "\n",
    "- High Cardinality: The categorical feature has a large number of unique values (high cardinality). One-hot encoding would lead to a large number of binary columns, which could increase computational complexity and memory usage.\n",
    "\n",
    "- When Categories Have No Meaningful Separation: If the categories don't have a natural order or separation and a simple integer representation is sufficient, nominal encoding can be used.\n",
    "\n",
    "- When Model or Algorithm Specific Requirements: Some models and algorithms, particularly those that can handle categorical variables natively or have built-in mechanisms to deal with categorical data (e.g., decision trees, gradient boosting models), may perform better with nominal encoding.\n",
    "\n",
    "Practical Example: Customer Loyalty Program"
   ]
  },
  {
   "cell_type": "code",
   "execution_count": 2,
   "id": "b1485a28-a475-4629-80c0-6d1a747b3695",
   "metadata": {},
   "outputs": [
    {
     "name": "stdout",
     "output_type": "stream",
     "text": [
      "   customer_id membership_level  membership_level_encoded\n",
      "0            1           Bronze                         0\n",
      "1            2           Silver                         3\n",
      "2            3             Gold                         1\n",
      "3            4         Platinum                         2\n",
      "4            5           Silver                         3\n"
     ]
    }
   ],
   "source": [
    "import pandas as pd\n",
    "from sklearn.preprocessing import LabelEncoder\n",
    "\n",
    "# Sample data\n",
    "data = pd.DataFrame({\n",
    "    'customer_id': [1, 2, 3, 4, 5],\n",
    "    'membership_level': ['Bronze', 'Silver', 'Gold', 'Platinum', 'Silver']\n",
    "})\n",
    "\n",
    "# Perform nominal encoding\n",
    "label_encoder = LabelEncoder()\n",
    "data['membership_level_encoded'] = label_encoder.fit_transform(data['membership_level'])\n",
    "\n",
    "print(data)\n"
   ]
  },
  {
   "cell_type": "markdown",
   "id": "2e9c852c-6406-421a-81df-1f5116b5512e",
   "metadata": {},
   "source": [
    "#### Q4. Suppose you have a dataset containing categorical data with 5 unique  values. Which encoding technique would you use to transform this data into a format suitable for machine learning algorithms? Explain why you made this choice."
   ]
  },
  {
   "cell_type": "markdown",
   "id": "05d97f77-908c-4b93-b9d0-8f2d4cf7a7a8",
   "metadata": {},
   "source": [
    "#### solve\n",
    "If you have a dataset containing categorical data with 5 unique values, the choice of encoding technique depends on several factors, including the nature of the data, the machine learning algorithm you plan to use, and considerations related to computational efficiency and model performance.\n",
    "\n",
    "Encoding Techniques for 5 Unique Values\n",
    "\n",
    "One-Hot Encoding:\n",
    "- Description: One-hot encoding creates a binary column for each unique category, resulting in 5 new columns for 5 unique values. Each row will have a 1 in the column corresponding to its category and 0 in all other columns.\n",
    "\n",
    "- Pros:\n",
    "- > No Assumed Order: Suitable for nominal data where there is no ordinal relationship between categories.\n",
    "\n",
    "- >  Model Compatibility: Many machine learning algorithms (e.g., linear regression, neural networks) work well with one-hot encoded features.\n",
    "\n",
    "Cons:\n",
    "- Dimensionality: Adds a new feature for each unique category, which might increase the dimensionality of your dataset.\n",
    "\n",
    "- Sparsity: Creates sparse matrices (lots of zeroes), which can lead to inefficiencies.\n",
    "\n",
    "Example Code:"
   ]
  },
  {
   "cell_type": "code",
   "execution_count": 3,
   "id": "aa75fd50-b24f-4015-bf09-4315e1f8bfe9",
   "metadata": {},
   "outputs": [
    {
     "name": "stdout",
     "output_type": "stream",
     "text": [
      "   category_A  category_B  category_C  category_D  category_E\n",
      "0        True       False       False       False       False\n",
      "1       False        True       False       False       False\n",
      "2       False       False        True       False       False\n",
      "3       False       False       False        True       False\n",
      "4       False       False       False       False        True\n"
     ]
    }
   ],
   "source": [
    "import pandas as pd\r\n",
    "\r\n",
    "# Sample data\r\n",
    "data = pd.DataFrame({\r\n",
    "    'category': ['A', 'B', 'C', 'D', 'E']\r\n",
    "})\r\n",
    "\r\n",
    "# Perform one-hot encoding\r\n",
    "encoded_data = pd.get_dummies(data, columns=['category'])\r\n",
    "print(encoded_data)\r\n"
   ]
  },
  {
   "cell_type": "markdown",
   "id": "feaefe99-66d6-4832-af4e-089a9df86400",
   "metadata": {},
   "source": [
    "####\n",
    "Label Encoding:\n",
    "- Description: Converts each unique category into a unique integer. For 5 unique values, you would get integers ranging from 0 to 4.\n",
    "\n",
    "Pros:\n",
    "- Simplicity: The encoded feature remains a single column with numerical values.\n",
    "\n",
    "- Compact Representation: Does not increase the number of features in the dataset.\n",
    "\n",
    "Cons:\n",
    "- Ordinal Assumption: Assumes an ordinal relationship between categories, which might mislead some algorithms into interpreting the values as having a meaningful order.\n",
    "\n",
    "Example Code:"
   ]
  },
  {
   "cell_type": "code",
   "execution_count": 4,
   "id": "efa0116d-0307-4443-aad4-361293af9e90",
   "metadata": {},
   "outputs": [
    {
     "name": "stdout",
     "output_type": "stream",
     "text": [
      "  category  category_encoded\n",
      "0        A                 0\n",
      "1        B                 1\n",
      "2        C                 2\n",
      "3        D                 3\n",
      "4        E                 4\n"
     ]
    }
   ],
   "source": [
    "from sklearn.preprocessing import LabelEncoder\n",
    "import pandas as pd\n",
    "\n",
    "# Sample data\n",
    "data = pd.DataFrame({\n",
    "    'category': ['A', 'B', 'C', 'D', 'E']\n",
    "})\n",
    "\n",
    "# Perform label encoding\n",
    "label_encoder = LabelEncoder()\n",
    "data['category_encoded'] = label_encoder.fit_transform(data['category'])\n",
    "print(data)\n"
   ]
  },
  {
   "cell_type": "markdown",
   "id": "07dd7fd9-b669-411b-87d8-240aa912aaa8",
   "metadata": {},
   "source": [
    "####\n",
    "Frequency Encoding:\n",
    "- Description: Encodes each category based on its frequency in the dataset. If each category appears the same number of times, this would be less useful.\n",
    "\n",
    "Pros:\n",
    "- Compact: Similar to label encoding in terms of feature space.\n",
    "\n",
    "Cons:\n",
    "- Limited Use: May not always provide useful information if frequencies are not significantly different.\n",
    "\n",
    "Example Code:"
   ]
  },
  {
   "cell_type": "code",
   "execution_count": 5,
   "id": "2af9316b-22bf-488d-99d1-0b53309de504",
   "metadata": {},
   "outputs": [
    {
     "name": "stdout",
     "output_type": "stream",
     "text": [
      "  category  category_encoded\n",
      "0        A                 1\n",
      "1        B                 1\n",
      "2        C                 1\n",
      "3        D                 1\n",
      "4        E                 1\n"
     ]
    }
   ],
   "source": [
    "import pandas as pd\n",
    "\n",
    "# Sample data\n",
    "data = pd.DataFrame({\n",
    "    'category': ['A', 'B', 'C', 'D', 'E']\n",
    "})\n",
    "\n",
    "# Frequency encoding\n",
    "frequency_encoding = data['category'].value_counts().to_dict()\n",
    "data['category_encoded'] = data['category'].map(frequency_encoding)\n",
    "print(data)\n"
   ]
  },
  {
   "cell_type": "markdown",
   "id": "91c9be66-360a-4e90-9ce0-65448c9c2744",
   "metadata": {},
   "source": [
    "####\n",
    "Target Encoding:\n",
    "- Description: Encodes categories based on the mean of the target variable for each category. This method is used in supervised learning and depends on having a target variable.\n",
    "\n",
    "Pros:\n",
    "- Captures Relationships: Can capture the relationship between the category and the target variable.\n",
    "\n",
    "Cons:\n",
    "- Overfitting Risk: May introduce bias and overfitting if not handled properly (e.g., through cross-validation or regularization).\n",
    "\n",
    "Example Code:"
   ]
  },
  {
   "cell_type": "code",
   "execution_count": 6,
   "id": "1e059ec2-016d-4a52-8948-4de4c8ed0e25",
   "metadata": {},
   "outputs": [
    {
     "name": "stdout",
     "output_type": "stream",
     "text": [
      "  category  target  category_encoded\n",
      "0        A       1               1.0\n",
      "1        B       0               0.0\n",
      "2        C       1               1.0\n",
      "3        D       0               0.0\n",
      "4        E       1               1.0\n"
     ]
    }
   ],
   "source": [
    "import pandas as pd\n",
    "\n",
    "# Sample data\n",
    "data = pd.DataFrame({\n",
    "    'category': ['A', 'B', 'C', 'D', 'E'],\n",
    "    'target': [1, 0, 1, 0, 1]\n",
    "})\n",
    "\n",
    "# Target encoding\n",
    "target_mean = data.groupby('category')['target'].mean()\n",
    "data['category_encoded'] = data['category'].map(target_mean)\n",
    "print(data)\n"
   ]
  },
  {
   "cell_type": "markdown",
   "id": "1354e44e-f4f6-49e9-92ee-1646be03dc86",
   "metadata": {},
   "source": [
    "####\n",
    "Recommended Approach\n",
    "Given that there are only 5 unique values, one-hot encoding is generally the preferred approach unless there are specific constraints or characteristics of the data that suggest otherwise."
   ]
  },
  {
   "cell_type": "markdown",
   "id": "348c01e0-56a1-40c2-9640-8aea2c6da6b8",
   "metadata": {},
   "source": [
    "#### Q5. In a machine learning project, you have a dataset with 1000 rows and 5 columns. Two of the columns are categorical, and the remaining three columns are numerical. If you were to use nominal encoding to transform the categorical data, how many new columns would be created? Show your calculations."
   ]
  },
  {
   "cell_type": "markdown",
   "id": "fbcd8fb9-0aec-43dc-88e4-5e831638ddbb",
   "metadata": {},
   "source": [
    "#### solve\n",
    "To determine how many new columns will be created using nominal encoding (or one-hot encoding) for the categorical columns, you need to consider the number of unique values in each categorical column. Here’s how you can calculate it:\n",
    "\n",
    "Step-by-Step Calculation\n",
    "\n",
    "a. Identify the Number of Unique Values in Each Categorical Column:\n",
    "- Suppose the two categorical columns in your dataset are `category1` and `category2`.\n",
    "\n",
    "- Let's denote the number of unique values in `category1` as U1.\n",
    "\n",
    "- Let's denote the number of unique values in `category2' as U2.\n",
    "\n",
    "b. Calculate the Number of New Columns Created:\n",
    "- Each unique in a categorical column will be representd by a new binary column.\n",
    "\n",
    "- Therefore, the number of new columns created for `category` will be equal to U1.\n",
    "\n",
    "- The number of new columns created for `category2` will be equal to U2.\n",
    "\n",
    "c. sum the New Columns:\n",
    "- The total number of new columns created by nominal encoding is the sum of the new columns for each categorical column.                                   "
   ]
  },
  {
   "cell_type": "markdown",
   "id": "a342f982-df58-4e7b-997f-8bc3506530bc",
   "metadata": {},
   "source": [
    "#### Q6. You are working with a dataset containing information about different types of animals, including their species, habitat, and diet. Which encoding technique would you use to transform the categorical data into a format suitable for machine learning algorithms? Justify your answer."
   ]
  },
  {
   "cell_type": "markdown",
   "id": "f4cebb5d-f50c-48ec-a5bf-608baee4435d",
   "metadata": {},
   "source": [
    "#### solve\n",
    "In a dataset containing information about animals with categorical features such as `species`, `habitat`, and `diet`, the choice of encoding technique for transforming categorical data into a format suitable for machine learning algorithms depends on the nature of each feature and the machine learning algorithm you plan to use. Here's how you might approach encoding for these types of featurs:\n",
    "\n",
    "Encoding Techniques and Their Suitability\n",
    "- Description: one-hot encoding creates a binary column for each unique category value. Each original categorical column is replaced by multiple binary columns.\n",
    "\n",
    "- Habitat: This feature is also nomial it habitats do not have a meaningful order. one-hot encoding is appropriate to represent each habitat as distinact feature.\n",
    "\n",
    "- Diet: if dict ytpes are nominal, one-hot encoding ia appropriate.\n",
    "\n",
    "Advantage:\n",
    "- No Ordinal Assumption: one-hot encoding doesn't assume any order between catgories.\n",
    "\n",
    "- Model Compatibility: Many machine learning algorithms, paritcularly those not inherently handing categorical varies(e.g., linear models, neural networks), perform well with one-hot encoded features.\n",
    "\n",
    "Disadvantage:\n",
    "- Dimensionality: can increase the number of features significantly, especially if there are many unique categories.\n",
    "\n",
    "Example Code:"
   ]
  },
  {
   "cell_type": "code",
   "execution_count": 7,
   "id": "fa8e8e3a-2dbd-4f41-bfa0-fa7bf197e055",
   "metadata": {},
   "outputs": [
    {
     "name": "stdout",
     "output_type": "stream",
     "text": [
      "   species_Bear  species_Lion  species_Tiger  habitat_Forest  habitat_Jungle  \\\n",
      "0         False          True          False           False           False   \n",
      "1         False         False           True           False            True   \n",
      "2          True         False          False            True           False   \n",
      "\n",
      "   habitat_Savannah  diet_Carnivore  diet_Omnivore  \n",
      "0              True            True          False  \n",
      "1             False            True          False  \n",
      "2             False           False           True  \n"
     ]
    }
   ],
   "source": [
    "import pandas as pd\n",
    "\n",
    "# Sample data\n",
    "data = pd.DataFrame({\n",
    "    'species': ['Lion', 'Tiger', 'Bear'],\n",
    "    'habitat': ['Savannah', 'Jungle', 'Forest'],\n",
    "    'diet': ['Carnivore', 'Carnivore', 'Omnivore']\n",
    "})\n",
    "\n",
    "# Perform one-hot encoding\n",
    "encoded_data = pd.get_dummies(data)\n",
    "print(encoded_data)\n"
   ]
  },
  {
   "cell_type": "markdown",
   "id": "8c1d1d30-fa99-49be-8f29-2243cf448213",
   "metadata": {},
   "source": [
    "####\n",
    "Label Encoding:\n",
    "- Description: Converts each unique category value to a numerical label. Suitable when there is an ordinal relationship or when the categorical feature is used with algorithms that can handle such encoding.\n",
    "\n",
    "Suitability:\n",
    "- Species: Typically, species are nominal, so label encoding might not be ideal as it implies an ordinal relationship.\n",
    "\n",
    "- Habitat: If habitats do not have a natural order, label encoding might not be appropriate.\n",
    "\n",
    "- Diet: If there’s no inherent order, label encoding is less suitable.\n",
    "\n",
    "Advantages:\n",
    "- Compact Representation: Only a single column is created for each categorical feature.\n",
    "\n",
    "- Efficient for Certain Algorithms: Some algorithms can handle label encoding directly (e.g., decision trees).\n",
    "\n",
    "Disadvantages:\n",
    "- Ordinal Assumption: Implies an ordinal relationship, which can be misleading if categories are purely nominal.\n",
    "\n",
    "Example Code:"
   ]
  },
  {
   "cell_type": "code",
   "execution_count": 8,
   "id": "5f920dae-3355-405e-98c4-3a1fe782be59",
   "metadata": {},
   "outputs": [
    {
     "name": "stdout",
     "output_type": "stream",
     "text": [
      "  species   habitat       diet  species_encoded  habitat_encoded  diet_encoded\n",
      "0    Lion  Savannah  Carnivore                1                2             0\n",
      "1   Tiger    Jungle  Carnivore                2                1             0\n",
      "2    Bear    Forest   Omnivore                0                0             1\n"
     ]
    }
   ],
   "source": [
    "from sklearn.preprocessing import LabelEncoder\n",
    "import pandas as pd\n",
    "\n",
    "# Sample data\n",
    "data = pd.DataFrame({\n",
    "    'species': ['Lion', 'Tiger', 'Bear'],\n",
    "    'habitat': ['Savannah', 'Jungle', 'Forest'],\n",
    "    'diet': ['Carnivore', 'Carnivore', 'Omnivore']\n",
    "})\n",
    "\n",
    "# Perform label encoding\n",
    "label_encoder = LabelEncoder()\n",
    "data['species_encoded'] = label_encoder.fit_transform(data['species'])\n",
    "data['habitat_encoded'] = label_encoder.fit_transform(data['habitat'])\n",
    "data['diet_encoded'] = label_encoder.fit_transform(data['diet'])\n",
    "print(data)\n"
   ]
  },
  {
   "cell_type": "markdown",
   "id": "051255f8-8a0c-4079-9d82-fff39fcac253",
   "metadata": {},
   "source": [
    "####\n",
    "Frequency Encoding:\n",
    "- Description: Encodes categories based on their frequency or count in the dataset. Suitable when the frequency of occurrence might provide useful information.\n",
    "- Suitability:\n",
    "- > Species, Habitat, Diet: If the frequency of categories has significance or provides meaningful information, frequency encoding can be used. This technique is less common for nominal data unless frequency patterns are important.\n",
    "\n",
    "Advantages:\n",
    "- Simple Representation: Does not increase the number of features and captures frequency information.\n",
    "\n",
    "Disadvantages:\n",
    "- Limited Usefulness: May not be as effective if frequency does not add significant predictive value.\n",
    "\n",
    "Example Code:"
   ]
  },
  {
   "cell_type": "code",
   "execution_count": 9,
   "id": "82ed46f6-4a1f-4b94-9ed1-3561013621fa",
   "metadata": {},
   "outputs": [
    {
     "name": "stdout",
     "output_type": "stream",
     "text": [
      "  species   habitat       diet  species_encoded\n",
      "0    Lion  Savannah  Carnivore                2\n",
      "1   Tiger    Jungle  Carnivore                1\n",
      "2    Bear    Forest   Omnivore                2\n",
      "3    Lion  Savannah  Carnivore                2\n",
      "4    Bear    Forest   Omnivore                2\n"
     ]
    }
   ],
   "source": [
    "import pandas as pd\n",
    "\n",
    "# Sample data\n",
    "data = pd.DataFrame({\n",
    "    'species': ['Lion', 'Tiger', 'Bear', 'Lion', 'Bear'],\n",
    "    'habitat': ['Savannah', 'Jungle', 'Forest', 'Savannah', 'Forest'],\n",
    "    'diet': ['Carnivore', 'Carnivore', 'Omnivore', 'Carnivore', 'Omnivore']\n",
    "})\n",
    "\n",
    "# Frequency encoding\n",
    "frequency_encoding = data['species'].value_counts().to_dict()\n",
    "data['species_encoded'] = data['species'].map(frequency_encoding)\n",
    "print(data)\n"
   ]
  },
  {
   "cell_type": "markdown",
   "id": "4783f119-5b5d-4947-bd26-efaf13ab790b",
   "metadata": {},
   "source": [
    "####\n",
    "Target Encoding:\n",
    "- Description: Encodes categories based on the mean of the target variable for each category. Useful in supervised learning.\n",
    "- Suitability:\n",
    "- > Species, Habitat, Diet: Can be used if these features are predictive of a target variable and if you’re concerned about preserving the relationship between categorical features and the target.\n",
    "\n",
    "Advantages:\n",
    "- Captures Relationship: Can encode meaningful relationships between categories and the target variable.\n",
    "\n",
    "Disadvantages:\n",
    "- Overfitting Risk: Can lead to overfitting if not properly managed (e.g., cross-validation or regularization).\n",
    "\n",
    "Example Code:"
   ]
  },
  {
   "cell_type": "code",
   "execution_count": 10,
   "id": "677f7e6d-fb1c-448d-8f16-b6f7782f61dd",
   "metadata": {},
   "outputs": [
    {
     "name": "stdout",
     "output_type": "stream",
     "text": [
      "  species  target  species_encoded\n",
      "0    Lion       1              1.0\n",
      "1   Tiger       0              0.0\n",
      "2    Bear       1              0.5\n",
      "3    Lion       1              1.0\n",
      "4    Bear       0              0.5\n"
     ]
    }
   ],
   "source": [
    "import pandas as pd\n",
    "\n",
    "# Sample data\n",
    "data = pd.DataFrame({\n",
    "    'species': ['Lion', 'Tiger', 'Bear', 'Lion', 'Bear'],\n",
    "    'target': [1, 0, 1, 1, 0]\n",
    "})\n",
    "\n",
    "# Target encoding\n",
    "target_mean = data.groupby('species')['target'].mean()\n",
    "data['species_encoded'] = data['species'].map(target_mean)\n",
    "print(data)\n"
   ]
  },
  {
   "cell_type": "markdown",
   "id": "b70bc403-1dc0-4693-9aa2-b072d8376e28",
   "metadata": {},
   "source": [
    "#### Q7.You are working on a project that involves predicting customer churn for a telecommunications company. You have a dataset with 5 features, including the customer's gender, age, contract type, monthly charges, and tenure. Which encoding technique(s) would you use to transform the categorical data into numerical data? Provide a step-by-step explanation of how you would implement the encoding."
   ]
  },
  {
   "cell_type": "markdown",
   "id": "c6f0e4b7-9987-4e00-8c15-6b1a8e407cc6",
   "metadata": {},
   "source": [
    "#### solve\n",
    "In a project predicting customer churn for a telecommunications, you'll need to transform categorical data into numerical format to use it with machine learning algorithms. Given the dataset with features such as `gender`,`contract type`,`montly charges`, and `tenure`, here' how to handle the encoding of categorical data:\n",
    "\n",
    "Features and Their Encoding\n",
    "- `Gender` (Categorical, Nominal)\n",
    "\n",
    "- `Contract Type` (categorical, Nominal)\n",
    "\n",
    "- `Monthly charges` (Numerical)\n",
    "\n",
    "- `Tenure` (Numerical)\n",
    "\n",
    "Encoding Techniques for Categorical Data:\n",
    "- One-Hot Encoding is suitable for categorical features where there is no intrinsic order among the categories. This includes:\n",
    "\n",
    "- > Gender\n",
    "- > Contract Type\n",
    "\n",
    "- Label Encoding could be used if the categorical feature has a natural ordinal relationship, but in this case, we are dealing with nominal data. For purely nominal features, one-hot encoding is typically preferred.\n",
    "\n",
    "Step-by-Step Implementation\n",
    "- Let’s go through the encoding process for `gender` and `contract type`.\n",
    "\n",
    "a. Import Libraries and Load Data"
   ]
  },
  {
   "cell_type": "code",
   "execution_count": 11,
   "id": "bfc2ce98-4bdc-4df8-8adb-2d37cb3fdec9",
   "metadata": {},
   "outputs": [],
   "source": [
    "import pandas as pd\n",
    "\n",
    "# Sample data\n",
    "data = pd.DataFrame({\n",
    "    'gender': ['Male', 'Female', 'Female', 'Male'],\n",
    "    'contract_type': ['Month-to-month', 'One year', 'Two year', 'Month-to-month'],\n",
    "    'monthly_charges': [70.0, 50.0, 60.0, 90.0],\n",
    "    'tenure': [12, 24, 36, 6]\n",
    "})\n"
   ]
  },
  {
   "cell_type": "markdown",
   "id": "901cddd3-bb5b-40a6-8708-b32a89a6cecf",
   "metadata": {},
   "source": [
    "####\n",
    "b.One-Hot Encoding for `gender` and `cantract Type`\n",
    "- Gender has two unique values: `Male` and `Female`.\n",
    "\n",
    "- Contract Type has three unique values:'Month-to-month` , `One year` , and `Two year`.\n",
    "\n",
    "Use one-hot encoding to transform these categorical featurs."
   ]
  },
  {
   "cell_type": "code",
   "execution_count": 13,
   "id": "6060ff71-096b-4727-914a-fc7c896012af",
   "metadata": {},
   "outputs": [
    {
     "name": "stdout",
     "output_type": "stream",
     "text": [
      "   monthly_charges  tenure  gender_Female  gender_Male  \\\n",
      "0             70.0      12          False         True   \n",
      "1             50.0      24           True        False   \n",
      "2             60.0      36           True        False   \n",
      "3             90.0       6          False         True   \n",
      "\n",
      "   contract_type_Month-to-month  contract_type_One year  \\\n",
      "0                          True                   False   \n",
      "1                         False                    True   \n",
      "2                         False                   False   \n",
      "3                          True                   False   \n",
      "\n",
      "   contract_type_Two year  \n",
      "0                   False  \n",
      "1                   False  \n",
      "2                    True  \n",
      "3                   False  \n"
     ]
    }
   ],
   "source": [
    "# Perform one-hot encoding\n",
    "encoded_data = pd.get_dummies(data, columns=['gender', 'contract_type'])\n",
    "\n",
    "print(encoded_data)\n"
   ]
  },
  {
   "cell_type": "code",
   "execution_count": null,
   "id": "aa053def-6192-4c91-81c4-03392da750e4",
   "metadata": {},
   "outputs": [],
   "source": [
    "####\n",
    "c.. Considerations for Numerical Features\n",
    "Monthly Charges and Tenure are already numerical and do not need encoding. They can be used directly in the model"
   ]
  }
 ],
 "metadata": {
  "kernelspec": {
   "display_name": "Python 3 (ipykernel)",
   "language": "python",
   "name": "python3"
  },
  "language_info": {
   "codemirror_mode": {
    "name": "ipython",
    "version": 3
   },
   "file_extension": ".py",
   "mimetype": "text/x-python",
   "name": "python",
   "nbconvert_exporter": "python",
   "pygments_lexer": "ipython3",
   "version": "3.11.7"
  }
 },
 "nbformat": 4,
 "nbformat_minor": 5
}
